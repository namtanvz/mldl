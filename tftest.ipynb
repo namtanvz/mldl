{
 "cells": [
  {
   "cell_type": "code",
   "execution_count": 2,
   "metadata": {},
   "outputs": [],
   "source": [
    "import numpy as np\n",
    "import matplotlib.pyplot as plt \n",
    "import tensorflow as tf"
   ]
  },
  {
   "cell_type": "code",
   "execution_count": 3,
   "metadata": {},
   "outputs": [
    {
     "name": "stdout",
     "output_type": "stream",
     "text": [
      "2.7.0\n"
     ]
    }
   ],
   "source": [
    "print(tf.__version__)"
   ]
  },
  {
   "cell_type": "code",
   "execution_count": 7,
   "metadata": {},
   "outputs": [
    {
     "data": {
      "text/plain": [
       "<matplotlib.collections.PathCollection at 0x1c9cd2d40a0>"
      ]
     },
     "execution_count": 7,
     "metadata": {},
     "output_type": "execute_result"
    },
    {
     "data": {
      "image/png": "[encoded data removed]",
      "text/plain": [
       "<Figure size 432x288 with 1 Axes>"
      ]
     },
     "metadata": {
      "needs_background": "light"
     },
     "output_type": "display_data"
    }
   ],
   "source": [
    "X = np.array([-7.0, -4.0, -1.0, 2.0, 5.0, 8.0, 11.0, 14.0])\n",
    "\n",
    "y = np.array([3.0, 6.0, 9.0, 12.0, 15.0, 18.0, 21.0, 24.0])\n",
    "\n",
    "plt.scatter(X, y)"
   ]
  },
  {
   "cell_type": "code",
   "execution_count": 7,
   "metadata": {},
   "outputs": [
    {
     "data": {
      "text/plain": [
       "(<tf.Tensor: shape=(1,), dtype=string, numpy=array([b'937000'], dtype=object)>,\n",
       " <tf.Tensor: shape=(3,), dtype=string, numpy=array([b'bedroom', b'bathroom', b'garage'], dtype=object)>)"
      ]
     },
     "execution_count": 7,
     "metadata": {},
     "output_type": "execute_result"
    }
   ],
   "source": [
    "house_info = tf.constant(['bedroom','bathroom','garage'])\n",
    "house_price = tf.constant(['937000'])\n",
    "house_price,house_info"
   ]
  },
  {
   "cell_type": "code",
   "execution_count": 11,
   "metadata": {},
   "outputs": [
    {
     "data": {
      "text/plain": [
       "<module 'tensorflow.keras' from 'C:\\\\Users\\\\HP\\\\AppData\\\\Local\\\\Programs\\\\Python\\\\Python39\\\\lib\\\\site-packages\\\\tensorflow\\\\keras\\\\__init__.py'>"
      ]
     },
     "execution_count": 11,
     "metadata": {},
     "output_type": "execute_result"
    }
   ],
   "source": []
  },
  {
   "cell_type": "code",
   "execution_count": 8,
   "metadata": {},
   "outputs": [
    {
     "data": {
      "text/plain": [
       "(<tf.Tensor: shape=(8,), dtype=float32, numpy=array([-7., -4., -1.,  2.,  5.,  8., 11., 14.], dtype=float32)>,\n",
       " <tf.Tensor: shape=(8,), dtype=float32, numpy=array([ 3.,  6.,  9., 12., 15., 18., 21., 24.], dtype=float32)>)"
      ]
     },
     "execution_count": 8,
     "metadata": {},
     "output_type": "execute_result"
    }
   ],
   "source": [
    "X = tf.cast(tf.constant(X), dtype=tf.float32)\n",
    "y = tf.cast(tf.constant(y), dtype=tf.float32)\n",
    "X,y"
   ]
  },
  {
   "cell_type": "code",
   "execution_count": 12,
   "metadata": {},
   "outputs": [
    {
     "name": "stdout",
     "output_type": "stream",
     "text": [
      "Epoch 1/5\n",
      "1/1 [==============================] - 0s 340ms/step - loss: 11.5048 - mae: 11.5048\n",
      "Epoch 2/5\n",
      "1/1 [==============================] - 0s 3ms/step - loss: 11.3723 - mae: 11.3723\n",
      "Epoch 3/5\n",
      "1/1 [==============================] - 0s 3ms/step - loss: 11.2398 - mae: 11.2398\n",
      "Epoch 4/5\n",
      "1/1 [==============================] - 0s 4ms/step - loss: 11.1073 - mae: 11.1073\n",
      "Epoch 5/5\n",
      "1/1 [==============================] - 0s 3ms/step - loss: 10.9748 - mae: 10.9748\n"
     ]
    },
    {
     "data": {
      "text/plain": [
       "<keras.callbacks.History at 0x1c9cf5deb20>"
      ]
     },
     "execution_count": 12,
     "metadata": {},
     "output_type": "execute_result"
    }
   ],
   "source": [
    "tf.random.set_seed(42)\n",
    "\n",
    "model = tf.keras.Sequential([\n",
    "    tf.keras.layers.Dense(1)\n",
    "])\n",
    "\n",
    "model.compile(loss=tf.keras.losses.mae,\n",
    "                optimizer=tf.keras.optimizers.SGD(),\n",
    "                metrics=['mae'])\n",
    "\n",
    "model.fit(tf.expand_dims(X, axis=-1),y, epochs=5)"
   ]
  },
  {
   "cell_type": "code",
   "execution_count": 22,
   "metadata": {},
   "outputs": [
    {
     "data": {
      "text/plain": [
       "(<tf.Tensor: shape=(8,), dtype=float32, numpy=array([-7., -4., -1.,  2.,  5.,  8., 11., 14.], dtype=float32)>,\n",
       " <tf.Tensor: shape=(8,), dtype=float32, numpy=array([ 3.,  6.,  9., 12., 15., 18., 21., 24.], dtype=float32)>)"
      ]
     },
     "execution_count": 22,
     "metadata": {},
     "output_type": "execute_result"
    }
   ],
   "source": [
    "X,y"
   ]
  },
  {
   "cell_type": "code",
   "execution_count": 28,
   "metadata": {},
   "outputs": [
    {
     "data": {
      "text/plain": [
       "array([[21.79102]], dtype=float32)"
      ]
     },
     "execution_count": 28,
     "metadata": {},
     "output_type": "execute_result"
    }
   ],
   "source": [
    "y_pred = model.predict([17.0])\n",
    "y_pred"
   ]
  },
  {
   "cell_type": "code",
   "execution_count": 14,
   "metadata": {},
   "outputs": [
    {
     "name": "stdout",
     "output_type": "stream",
     "text": [
      "Epoch 1/100\n",
      "1/1 [==============================] - 0s 287ms/step - loss: 10.5736 - mae: 10.5736\n",
      "Epoch 2/100\n",
      "1/1 [==============================] - 0s 6ms/step - loss: 10.4411 - mae: 10.4411\n",
      "Epoch 3/100\n",
      "1/1 [==============================] - 0s 2ms/step - loss: 10.3086 - mae: 10.3086\n",
      "Epoch 4/100\n",
      "1/1 [==============================] - 0s 2ms/step - loss: 10.1761 - mae: 10.1761\n",
      "Epoch 5/100\n",
      "1/1 [==============================] - 0s 2ms/step - loss: 10.0436 - mae: 10.0436\n",
      "Epoch 6/100\n",
      "1/1 [==============================] - 0s 3ms/step - loss: 9.9111 - mae: 9.9111\n",
      "Epoch 7/100\n",
      "1/1 [==============================] - 0s 2ms/step - loss: 9.7786 - mae: 9.7786\n",
      "Epoch 8/100\n",
      "1/1 [==============================] - 0s 2ms/step - loss: 9.6461 - mae: 9.6461\n",
      "Epoch 9/100\n",
      "1/1 [==============================] - 0s 4ms/step - loss: 9.5136 - mae: 9.5136\n",
      "Epoch 10/100\n",
      "1/1 [==============================] - 0s 5ms/step - loss: 9.3811 - mae: 9.3811\n",
      "Epoch 11/100\n",
      "1/1 [==============================] - 0s 4ms/step - loss: 9.2486 - mae: 9.2486\n",
      "Epoch 12/100\n",
      "1/1 [==============================] - 0s 4ms/step - loss: 9.1161 - mae: 9.1161\n",
      "Epoch 13/100\n",
      "1/1 [==============================] - 0s 5ms/step - loss: 8.9836 - mae: 8.9836\n",
      "Epoch 14/100\n",
      "1/1 [==============================] - 0s 13ms/step - loss: 8.8511 - mae: 8.8511\n",
      "Epoch 15/100\n",
      "1/1 [==============================] - 0s 6ms/step - loss: 8.7186 - mae: 8.7186\n",
      "Epoch 16/100\n",
      "1/1 [==============================] - 0s 9ms/step - loss: 8.5861 - mae: 8.5861\n",
      "Epoch 17/100\n",
      "1/1 [==============================] - 0s 4ms/step - loss: 8.4536 - mae: 8.4536\n",
      "Epoch 18/100\n",
      "1/1 [==============================] - 0s 10ms/step - loss: 8.3211 - mae: 8.3211\n",
      "Epoch 19/100\n",
      "1/1 [==============================] - 0s 3ms/step - loss: 8.1886 - mae: 8.1886\n",
      "Epoch 20/100\n",
      "1/1 [==============================] - 0s 5ms/step - loss: 8.0561 - mae: 8.0561\n",
      "Epoch 21/100\n",
      "1/1 [==============================] - 0s 3ms/step - loss: 7.9236 - mae: 7.9236\n",
      "Epoch 22/100\n",
      "1/1 [==============================] - 0s 3ms/step - loss: 7.7911 - mae: 7.7911\n",
      "Epoch 23/100\n",
      "1/1 [==============================] - 0s 6ms/step - loss: 7.6586 - mae: 7.6586\n",
      "Epoch 24/100\n",
      "1/1 [==============================] - 0s 6ms/step - loss: 7.5261 - mae: 7.5261\n",
      "Epoch 25/100\n",
      "1/1 [==============================] - 0s 5ms/step - loss: 7.3936 - mae: 7.3936\n",
      "Epoch 26/100\n",
      "1/1 [==============================] - 0s 2ms/step - loss: 7.3125 - mae: 7.3125\n",
      "Epoch 27/100\n",
      "1/1 [==============================] - 0s 4ms/step - loss: 7.3069 - mae: 7.3069\n",
      "Epoch 28/100\n",
      "1/1 [==============================] - 0s 7ms/step - loss: 7.3012 - mae: 7.3012\n",
      "Epoch 29/100\n",
      "1/1 [==============================] - 0s 4ms/step - loss: 7.2956 - mae: 7.2956\n",
      "Epoch 30/100\n",
      "1/1 [==============================] - 0s 3ms/step - loss: 7.2900 - mae: 7.2900\n",
      "Epoch 31/100\n",
      "1/1 [==============================] - 0s 3ms/step - loss: 7.2844 - mae: 7.2844\n",
      "Epoch 32/100\n",
      "1/1 [==============================] - 0s 6ms/step - loss: 7.2787 - mae: 7.2787\n",
      "Epoch 33/100\n",
      "1/1 [==============================] - 0s 9ms/step - loss: 7.2731 - mae: 7.2731\n",
      "Epoch 34/100\n",
      "1/1 [==============================] - 0s 3ms/step - loss: 7.2675 - mae: 7.2675\n",
      "Epoch 35/100\n",
      "1/1 [==============================] - 0s 3ms/step - loss: 7.2619 - mae: 7.2619\n",
      "Epoch 36/100\n",
      "1/1 [==============================] - 0s 5ms/step - loss: 7.2562 - mae: 7.2562\n",
      "Epoch 37/100\n",
      "1/1 [==============================] - 0s 5ms/step - loss: 7.2506 - mae: 7.2506\n",
      "Epoch 38/100\n",
      "1/1 [==============================] - 0s 2ms/step - loss: 7.2450 - mae: 7.2450\n",
      "Epoch 39/100\n",
      "1/1 [==============================] - 0s 4ms/step - loss: 7.2394 - mae: 7.2394\n",
      "Epoch 40/100\n",
      "1/1 [==============================] - 0s 5ms/step - loss: 7.2337 - mae: 7.2337\n",
      "Epoch 41/100\n",
      "1/1 [==============================] - 0s 3ms/step - loss: 7.2281 - mae: 7.2281\n",
      "Epoch 42/100\n",
      "1/1 [==============================] - 0s 3ms/step - loss: 7.2225 - mae: 7.2225\n",
      "Epoch 43/100\n",
      "1/1 [==============================] - 0s 3ms/step - loss: 7.2169 - mae: 7.2169\n",
      "Epoch 44/100\n",
      "1/1 [==============================] - 0s 3ms/step - loss: 7.2112 - mae: 7.2112\n",
      "Epoch 45/100\n",
      "1/1 [==============================] - 0s 6ms/step - loss: 7.2056 - mae: 7.2056\n",
      "Epoch 46/100\n",
      "1/1 [==============================] - 0s 6ms/step - loss: 7.2000 - mae: 7.2000\n",
      "Epoch 47/100\n",
      "1/1 [==============================] - 0s 4ms/step - loss: 7.1944 - mae: 7.1944\n",
      "Epoch 48/100\n",
      "1/1 [==============================] - 0s 4ms/step - loss: 7.1887 - mae: 7.1887\n",
      "Epoch 49/100\n",
      "1/1 [==============================] - 0s 7ms/step - loss: 7.1831 - mae: 7.1831\n",
      "Epoch 50/100\n",
      "1/1 [==============================] - 0s 6ms/step - loss: 7.1775 - mae: 7.1775\n",
      "Epoch 51/100\n",
      "1/1 [==============================] - 0s 3ms/step - loss: 7.1719 - mae: 7.1719\n",
      "Epoch 52/100\n",
      "1/1 [==============================] - 0s 6ms/step - loss: 7.1663 - mae: 7.1663\n",
      "Epoch 53/100\n",
      "1/1 [==============================] - 0s 4ms/step - loss: 7.1606 - mae: 7.1606\n",
      "Epoch 54/100\n",
      "1/1 [==============================] - 0s 3ms/step - loss: 7.1550 - mae: 7.1550\n",
      "Epoch 55/100\n",
      "1/1 [==============================] - 0s 10ms/step - loss: 7.1494 - mae: 7.1494\n",
      "Epoch 56/100\n",
      "1/1 [==============================] - 0s 8ms/step - loss: 7.1438 - mae: 7.1438\n",
      "Epoch 57/100\n",
      "1/1 [==============================] - 0s 2ms/step - loss: 7.1381 - mae: 7.1381\n",
      "Epoch 58/100\n",
      "1/1 [==============================] - 0s 2ms/step - loss: 7.1325 - mae: 7.1325\n",
      "Epoch 59/100\n",
      "1/1 [==============================] - 0s 6ms/step - loss: 7.1269 - mae: 7.1269\n",
      "Epoch 60/100\n",
      "1/1 [==============================] - 0s 4ms/step - loss: 7.1213 - mae: 7.1213\n",
      "Epoch 61/100\n",
      "1/1 [==============================] - 0s 3ms/step - loss: 7.1156 - mae: 7.1156\n",
      "Epoch 62/100\n",
      "1/1 [==============================] - 0s 2ms/step - loss: 7.1100 - mae: 7.1100\n",
      "Epoch 63/100\n",
      "1/1 [==============================] - 0s 9ms/step - loss: 7.1044 - mae: 7.1044\n",
      "Epoch 64/100\n",
      "1/1 [==============================] - 0s 4ms/step - loss: 7.0988 - mae: 7.0988\n",
      "Epoch 65/100\n",
      "1/1 [==============================] - 0s 2ms/step - loss: 7.0931 - mae: 7.0931\n",
      "Epoch 66/100\n",
      "1/1 [==============================] - 0s 3ms/step - loss: 7.0875 - mae: 7.0875\n",
      "Epoch 67/100\n",
      "1/1 [==============================] - 0s 4ms/step - loss: 7.0819 - mae: 7.0819\n",
      "Epoch 68/100\n",
      "1/1 [==============================] - 0s 4ms/step - loss: 7.0763 - mae: 7.0763\n",
      "Epoch 69/100\n",
      "1/1 [==============================] - 0s 5ms/step - loss: 7.0706 - mae: 7.0706\n",
      "Epoch 70/100\n",
      "1/1 [==============================] - 0s 3ms/step - loss: 7.0650 - mae: 7.0650\n",
      "Epoch 71/100\n",
      "1/1 [==============================] - 0s 6ms/step - loss: 7.0594 - mae: 7.0594\n",
      "Epoch 72/100\n",
      "1/1 [==============================] - 0s 7ms/step - loss: 7.0538 - mae: 7.0538\n",
      "Epoch 73/100\n",
      "1/1 [==============================] - 0s 5ms/step - loss: 7.0481 - mae: 7.0481\n",
      "Epoch 74/100\n",
      "1/1 [==============================] - 0s 6ms/step - loss: 7.0425 - mae: 7.0425\n",
      "Epoch 75/100\n",
      "1/1 [==============================] - 0s 12ms/step - loss: 7.0369 - mae: 7.0369\n",
      "Epoch 76/100\n",
      "1/1 [==============================] - 0s 5ms/step - loss: 7.0312 - mae: 7.0312\n",
      "Epoch 77/100\n",
      "1/1 [==============================] - 0s 7ms/step - loss: 7.0256 - mae: 7.0256\n",
      "Epoch 78/100\n",
      "1/1 [==============================] - 0s 8ms/step - loss: 7.0200 - mae: 7.0200\n",
      "Epoch 79/100\n",
      "1/1 [==============================] - 0s 4ms/step - loss: 7.0144 - mae: 7.0144\n",
      "Epoch 80/100\n",
      "1/1 [==============================] - 0s 7ms/step - loss: 7.0087 - mae: 7.0087\n",
      "Epoch 81/100\n",
      "1/1 [==============================] - 0s 7ms/step - loss: 7.0031 - mae: 7.0031\n",
      "Epoch 82/100\n",
      "1/1 [==============================] - 0s 7ms/step - loss: 6.9975 - mae: 6.9975\n",
      "Epoch 83/100\n",
      "1/1 [==============================] - 0s 9ms/step - loss: 6.9919 - mae: 6.9919\n",
      "Epoch 84/100\n",
      "1/1 [==============================] - 0s 6ms/step - loss: 6.9862 - mae: 6.9862\n",
      "Epoch 85/100\n",
      "1/1 [==============================] - 0s 11ms/step - loss: 6.9806 - mae: 6.9806\n",
      "Epoch 86/100\n",
      "1/1 [==============================] - 0s 6ms/step - loss: 6.9750 - mae: 6.9750\n",
      "Epoch 87/100\n",
      "1/1 [==============================] - 0s 14ms/step - loss: 6.9694 - mae: 6.9694\n",
      "Epoch 88/100\n",
      "1/1 [==============================] - 0s 8ms/step - loss: 6.9637 - mae: 6.9637\n",
      "Epoch 89/100\n",
      "1/1 [==============================] - 0s 12ms/step - loss: 6.9581 - mae: 6.9581\n",
      "Epoch 90/100\n",
      "1/1 [==============================] - 0s 4ms/step - loss: 6.9525 - mae: 6.9525\n",
      "Epoch 91/100\n",
      "1/1 [==============================] - 0s 4ms/step - loss: 6.9469 - mae: 6.9469\n",
      "Epoch 92/100\n",
      "1/1 [==============================] - 0s 3ms/step - loss: 6.9413 - mae: 6.9413\n",
      "Epoch 93/100\n",
      "1/1 [==============================] - 0s 4ms/step - loss: 6.9356 - mae: 6.9356\n",
      "Epoch 94/100\n",
      "1/1 [==============================] - 0s 3ms/step - loss: 6.9300 - mae: 6.9300\n",
      "Epoch 95/100\n",
      "1/1 [==============================] - 0s 3ms/step - loss: 6.9244 - mae: 6.9244\n",
      "Epoch 96/100\n",
      "1/1 [==============================] - 0s 3ms/step - loss: 6.9188 - mae: 6.9188\n",
      "Epoch 97/100\n",
      "1/1 [==============================] - 0s 3ms/step - loss: 6.9131 - mae: 6.9131\n",
      "Epoch 98/100\n",
      "1/1 [==============================] - 0s 6ms/step - loss: 6.9075 - mae: 6.9075\n",
      "Epoch 99/100\n",
      "1/1 [==============================] - 0s 4ms/step - loss: 6.9019 - mae: 6.9019\n",
      "Epoch 100/100\n",
      "1/1 [==============================] - 0s 7ms/step - loss: 6.8963 - mae: 6.8963\n"
     ]
    },
    {
     "data": {
      "text/plain": [
       "<keras.callbacks.History at 0x1c9d0761bb0>"
      ]
     },
     "execution_count": 14,
     "metadata": {},
     "output_type": "execute_result"
    }
   ],
   "source": [
    "model = tf.keras.Sequential([\n",
    "    tf.keras.layers.Dense(1)\n",
    "])\n",
    "\n",
    "model.compile(loss=tf.keras.losses.mae,\n",
    "            optimizer=tf.keras.optimizers.SGD(),\n",
    "            metrics=['mae'])\n",
    "model.fit(tf.expand_dims(X, axis=-1),y, epochs=100)"
   ]
  },
  {
   "cell_type": "code",
   "execution_count": 15,
   "metadata": {},
   "outputs": [
    {
     "data": {
      "text/plain": [
       "(<tf.Tensor: shape=(8,), dtype=float32, numpy=array([-7., -4., -1.,  2.,  5.,  8., 11., 14.], dtype=float32)>,\n",
       " <tf.Tensor: shape=(8,), dtype=float32, numpy=array([ 3.,  6.,  9., 12., 15., 18., 21., 24.], dtype=float32)>)"
      ]
     },
     "execution_count": 15,
     "metadata": {},
     "output_type": "execute_result"
    }
   ],
   "source": [
    "X,y"
   ]
  },
  {
   "cell_type": "code",
   "execution_count": 16,
   "metadata": {},
   "outputs": [
    {
     "data": {
      "text/plain": [
       "array([[29.901575]], dtype=float32)"
      ]
     },
     "execution_count": 16,
     "metadata": {},
     "output_type": "execute_result"
    }
   ],
   "source": [
    "model.predict([17.0])"
   ]
  },
  {
   "cell_type": "code",
   "execution_count": 21,
   "metadata": {},
   "outputs": [
    {
     "name": "stdout",
     "output_type": "stream",
     "text": [
      "Epoch 1/100\n",
      "1/1 [==============================] - 0s 286ms/step - loss: 13.2765 - mae: 13.2765\n",
      "Epoch 2/100\n",
      "1/1 [==============================] - 0s 3ms/step - loss: 12.8401 - mae: 12.8401\n",
      "Epoch 3/100\n",
      "1/1 [==============================] - 0s 3ms/step - loss: 12.4224 - mae: 12.4224\n",
      "Epoch 4/100\n",
      "1/1 [==============================] - 0s 3ms/step - loss: 11.9746 - mae: 11.9746\n",
      "Epoch 5/100\n",
      "1/1 [==============================] - 0s 3ms/step - loss: 11.5099 - mae: 11.5099\n",
      "Epoch 6/100\n",
      "1/1 [==============================] - 0s 3ms/step - loss: 10.9818 - mae: 10.9818\n",
      "Epoch 7/100\n",
      "1/1 [==============================] - 0s 2ms/step - loss: 10.3517 - mae: 10.3517\n",
      "Epoch 8/100\n",
      "1/1 [==============================] - 0s 998us/step - loss: 9.5581 - mae: 9.5581\n",
      "Epoch 9/100\n",
      "1/1 [==============================] - 0s 2ms/step - loss: 8.5426 - mae: 8.5426\n",
      "Epoch 10/100\n",
      "1/1 [==============================] - 0s 3ms/step - loss: 7.2063 - mae: 7.2063\n",
      "Epoch 11/100\n",
      "1/1 [==============================] - 0s 3ms/step - loss: 5.3768 - mae: 5.3768\n",
      "Epoch 12/100\n",
      "1/1 [==============================] - 0s 3ms/step - loss: 3.9518 - mae: 3.9518\n",
      "Epoch 13/100\n",
      "1/1 [==============================] - 0s 4ms/step - loss: 3.9923 - mae: 3.9923\n",
      "Epoch 14/100\n",
      "1/1 [==============================] - 0s 3ms/step - loss: 3.9652 - mae: 3.9652\n",
      "Epoch 15/100\n",
      "1/1 [==============================] - 0s 2ms/step - loss: 3.9429 - mae: 3.9429\n",
      "Epoch 16/100\n",
      "1/1 [==============================] - 0s 3ms/step - loss: 3.9804 - mae: 3.9804\n",
      "Epoch 17/100\n",
      "1/1 [==============================] - 0s 3ms/step - loss: 3.8921 - mae: 3.8921\n",
      "Epoch 18/100\n",
      "1/1 [==============================] - 0s 4ms/step - loss: 3.9963 - mae: 3.9963\n",
      "Epoch 19/100\n",
      "1/1 [==============================] - 0s 2ms/step - loss: 3.8395 - mae: 3.8395\n",
      "Epoch 20/100\n",
      "1/1 [==============================] - 0s 3ms/step - loss: 4.0140 - mae: 4.0140\n",
      "Epoch 21/100\n",
      "1/1 [==============================] - 0s 2ms/step - loss: 3.8070 - mae: 3.8070\n",
      "Epoch 22/100\n",
      "1/1 [==============================] - 0s 4ms/step - loss: 4.0041 - mae: 4.0041\n",
      "Epoch 23/100\n",
      "1/1 [==============================] - 0s 2ms/step - loss: 3.8543 - mae: 3.8543\n",
      "Epoch 24/100\n",
      "1/1 [==============================] - 0s 4ms/step - loss: 3.9267 - mae: 3.9267\n",
      "Epoch 25/100\n",
      "1/1 [==============================] - 0s 2ms/step - loss: 3.8719 - mae: 3.8719\n",
      "Epoch 26/100\n",
      "1/1 [==============================] - 0s 2ms/step - loss: 3.8724 - mae: 3.8724\n",
      "Epoch 27/100\n",
      "1/1 [==============================] - 0s 4ms/step - loss: 3.8908 - mae: 3.8908\n",
      "Epoch 28/100\n",
      "1/1 [==============================] - 0s 3ms/step - loss: 3.8164 - mae: 3.8164\n",
      "Epoch 29/100\n",
      "1/1 [==============================] - 0s 3ms/step - loss: 3.9110 - mae: 3.9110\n",
      "Epoch 30/100\n",
      "1/1 [==============================] - 0s 3ms/step - loss: 3.7583 - mae: 3.7583\n",
      "Epoch 31/100\n",
      "1/1 [==============================] - 0s 3ms/step - loss: 3.9322 - mae: 3.9322\n",
      "Epoch 32/100\n",
      "1/1 [==============================] - 0s 3ms/step - loss: 3.7307 - mae: 3.7307\n",
      "Epoch 33/100\n",
      "1/1 [==============================] - 0s 3ms/step - loss: 3.9138 - mae: 3.9138\n",
      "Epoch 34/100\n",
      "1/1 [==============================] - 0s 3ms/step - loss: 3.7812 - mae: 3.7812\n",
      "Epoch 35/100\n",
      "1/1 [==============================] - 0s 2ms/step - loss: 3.8307 - mae: 3.8307\n",
      "Epoch 36/100\n",
      "1/1 [==============================] - 0s 2ms/step - loss: 3.8022 - mae: 3.8022\n",
      "Epoch 37/100\n",
      "1/1 [==============================] - 0s 3ms/step - loss: 3.7695 - mae: 3.7695\n",
      "Epoch 38/100\n",
      "1/1 [==============================] - 0s 4ms/step - loss: 3.8248 - mae: 3.8248\n",
      "Epoch 39/100\n",
      "1/1 [==============================] - 0s 2ms/step - loss: 3.7062 - mae: 3.7062\n",
      "Epoch 40/100\n",
      "1/1 [==============================] - 0s 3ms/step - loss: 3.8487 - mae: 3.8487\n",
      "Epoch 41/100\n",
      "1/1 [==============================] - 0s 2ms/step - loss: 3.6528 - mae: 3.6528\n",
      "Epoch 42/100\n",
      "1/1 [==============================] - 0s 4ms/step - loss: 3.8491 - mae: 3.8491\n",
      "Epoch 43/100\n",
      "1/1 [==============================] - 0s 2ms/step - loss: 3.6762 - mae: 3.6762\n",
      "Epoch 44/100\n",
      "1/1 [==============================] - 0s 4ms/step - loss: 3.7881 - mae: 3.7881\n",
      "Epoch 45/100\n",
      "1/1 [==============================] - 0s 3ms/step - loss: 3.7301 - mae: 3.7301\n",
      "Epoch 46/100\n",
      "1/1 [==============================] - 0s 3ms/step - loss: 3.7006 - mae: 3.7006\n",
      "Epoch 47/100\n",
      "1/1 [==============================] - 0s 3ms/step - loss: 3.7555 - mae: 3.7555\n",
      "Epoch 48/100\n",
      "1/1 [==============================] - 0s 3ms/step - loss: 3.6322 - mae: 3.6322\n",
      "Epoch 49/100\n",
      "1/1 [==============================] - 0s 2ms/step - loss: 3.7824 - mae: 3.7824\n",
      "Epoch 50/100\n",
      "1/1 [==============================] - 0s 2ms/step - loss: 3.5899 - mae: 3.5899\n",
      "Epoch 51/100\n",
      "1/1 [==============================] - 0s 2ms/step - loss: 3.7701 - mae: 3.7701\n",
      "Epoch 52/100\n",
      "1/1 [==============================] - 0s 3ms/step - loss: 3.6164 - mae: 3.6164\n",
      "Epoch 53/100\n",
      "1/1 [==============================] - 0s 8ms/step - loss: 3.7010 - mae: 3.7010\n",
      "Epoch 54/100\n",
      "1/1 [==============================] - 0s 6ms/step - loss: 3.6424 - mae: 3.6424\n",
      "Epoch 55/100\n",
      "1/1 [==============================] - 0s 6ms/step - loss: 3.6266 - mae: 3.6266\n",
      "Epoch 56/100\n",
      "1/1 [==============================] - 0s 5ms/step - loss: 3.6702 - mae: 3.6702\n",
      "Epoch 57/100\n",
      "1/1 [==============================] - 0s 4ms/step - loss: 3.5526 - mae: 3.5526\n",
      "Epoch 58/100\n",
      "1/1 [==============================] - 0s 3ms/step - loss: 3.7006 - mae: 3.7006\n",
      "Epoch 59/100\n",
      "1/1 [==============================] - 0s 3ms/step - loss: 3.5168 - mae: 3.5168\n",
      "Epoch 60/100\n",
      "1/1 [==============================] - 0s 3ms/step - loss: 3.6635 - mae: 3.6635\n",
      "Epoch 61/100\n",
      "1/1 [==============================] - 0s 2ms/step - loss: 3.5723 - mae: 3.5723\n",
      "Epoch 62/100\n",
      "1/1 [==============================] - 0s 2ms/step - loss: 3.5872 - mae: 3.5872\n",
      "Epoch 63/100\n",
      "1/1 [==============================] - 0s 3ms/step - loss: 3.6023 - mae: 3.6023\n",
      "Epoch 64/100\n",
      "1/1 [==============================] - 0s 3ms/step - loss: 3.5081 - mae: 3.5081\n",
      "Epoch 65/100\n",
      "1/1 [==============================] - 0s 3ms/step - loss: 3.6340 - mae: 3.6340\n",
      "Epoch 66/100\n",
      "1/1 [==============================] - 0s 2ms/step - loss: 3.4499 - mae: 3.4499\n",
      "Epoch 67/100\n",
      "1/1 [==============================] - 0s 2ms/step - loss: 3.6332 - mae: 3.6332\n",
      "Epoch 68/100\n",
      "1/1 [==============================] - 0s 2ms/step - loss: 3.5106 - mae: 3.5106\n",
      "Epoch 69/100\n",
      "1/1 [==============================] - 0s 2ms/step - loss: 3.5344 - mae: 3.5344\n",
      "Epoch 70/100\n",
      "1/1 [==============================] - 0s 3ms/step - loss: 3.5420 - mae: 3.5420\n",
      "Epoch 71/100\n",
      "1/1 [==============================] - 0s 2ms/step - loss: 3.4511 - mae: 3.4511\n",
      "Epoch 72/100\n",
      "1/1 [==============================] - 0s 2ms/step - loss: 3.5755 - mae: 3.5755\n",
      "Epoch 73/100\n",
      "1/1 [==============================] - 0s 3ms/step - loss: 3.3940 - mae: 3.3940\n",
      "Epoch 74/100\n",
      "1/1 [==============================] - 0s 4ms/step - loss: 3.5692 - mae: 3.5692\n",
      "Epoch 75/100\n",
      "1/1 [==============================] - 0s 2ms/step - loss: 3.4268 - mae: 3.4268\n",
      "Epoch 76/100\n",
      "1/1 [==============================] - 0s 3ms/step - loss: 3.4854 - mae: 3.4854\n",
      "Epoch 77/100\n",
      "1/1 [==============================] - 0s 2ms/step - loss: 3.4623 - mae: 3.4623\n",
      "Epoch 78/100\n",
      "1/1 [==============================] - 0s 3ms/step - loss: 3.3979 - mae: 3.3979\n",
      "Epoch 79/100\n",
      "1/1 [==============================] - 0s 3ms/step - loss: 3.4980 - mae: 3.4980\n",
      "Epoch 80/100\n",
      "1/1 [==============================] - 0s 4ms/step - loss: 3.3216 - mae: 3.3216\n",
      "Epoch 81/100\n",
      "1/1 [==============================] - 0s 3ms/step - loss: 3.5142 - mae: 3.5142\n",
      "Epoch 82/100\n",
      "1/1 [==============================] - 0s 4ms/step - loss: 3.3836 - mae: 3.3836\n",
      "Epoch 83/100\n",
      "1/1 [==============================] - 0s 4ms/step - loss: 3.4011 - mae: 3.4011\n",
      "Epoch 84/100\n",
      "1/1 [==============================] - 0s 3ms/step - loss: 3.4184 - mae: 3.4184\n",
      "Epoch 85/100\n",
      "1/1 [==============================] - 0s 3ms/step - loss: 3.3064 - mae: 3.3064\n",
      "Epoch 86/100\n",
      "1/1 [==============================] - 0s 5ms/step - loss: 3.4560 - mae: 3.4560\n",
      "Epoch 87/100\n",
      "1/1 [==============================] - 0s 3ms/step - loss: 3.2782 - mae: 3.2782\n",
      "Epoch 88/100\n",
      "1/1 [==============================] - 0s 3ms/step - loss: 3.4125 - mae: 3.4125\n",
      "Epoch 89/100\n",
      "1/1 [==============================] - 0s 3ms/step - loss: 3.3147 - mae: 3.3147\n",
      "Epoch 90/100\n",
      "1/1 [==============================] - 0s 4ms/step - loss: 3.3163 - mae: 3.3163\n",
      "Epoch 91/100\n",
      "1/1 [==============================] - 0s 3ms/step - loss: 3.3534 - mae: 3.3534\n",
      "Epoch 92/100\n",
      "1/1 [==============================] - 0s 3ms/step - loss: 3.2162 - mae: 3.2162\n",
      "Epoch 93/100\n",
      "1/1 [==============================] - 0s 3ms/step - loss: 3.3938 - mae: 3.3938\n",
      "Epoch 94/100\n",
      "1/1 [==============================] - 0s 4ms/step - loss: 3.2179 - mae: 3.2179\n",
      "Epoch 95/100\n",
      "1/1 [==============================] - 0s 3ms/step - loss: 3.3189 - mae: 3.3189\n",
      "Epoch 96/100\n",
      "1/1 [==============================] - 0s 3ms/step - loss: 3.2564 - mae: 3.2564\n",
      "Epoch 97/100\n",
      "1/1 [==============================] - 0s 4ms/step - loss: 3.2166 - mae: 3.2166\n",
      "Epoch 98/100\n",
      "1/1 [==============================] - 0s 3ms/step - loss: 3.2964 - mae: 3.2964\n",
      "Epoch 99/100\n",
      "1/1 [==============================] - 0s 3ms/step - loss: 3.1256 - mae: 3.1256\n",
      "Epoch 100/100\n",
      "1/1 [==============================] - 0s 3ms/step - loss: 3.3289 - mae: 3.3289\n"
     ]
    },
    {
     "data": {
      "text/plain": [
       "<keras.callbacks.History at 0x1c9d1851f70>"
      ]
     },
     "execution_count": 21,
     "metadata": {},
     "output_type": "execute_result"
    }
   ],
   "source": [
    "model = tf.keras.Sequential([\n",
    "    tf.keras.layers.Dense(100, activation='relu'),\n",
    "    tf.keras.layers.Dense(100, activation='relu'),\n",
    "    tf.keras.layers.Dense(100, activation='relu'),\n",
    "    tf.keras.layers.Dense(1)\n",
    "])\n",
    "\n",
    "model.compile(loss=tf.keras.losses.mae,\n",
    "            optimizer=tf.keras.optimizers.SGD(),\n",
    "            metrics=['mae'])\n",
    "model.fit(tf.expand_dims(X, axis=-1),y, epochs=100)    "
   ]
  },
  {
   "cell_type": "code",
   "execution_count": 22,
   "metadata": {},
   "outputs": [
    {
     "data": {
      "text/plain": [
       "array([[32.410076]], dtype=float32)"
      ]
     },
     "execution_count": 22,
     "metadata": {},
     "output_type": "execute_result"
    }
   ],
   "source": [
    "model.predict([17.0])"
   ]
  },
  {
   "cell_type": "code",
   "execution_count": 25,
   "metadata": {},
   "outputs": [
    {
     "name": "stderr",
     "output_type": "stream",
     "text": [
      "C:\\Users\\HP\\AppData\\Roaming\\Python\\Python39\\site-packages\\keras\\optimizer_v2\\adam.py:105: UserWarning: The `lr` argument is deprecated, use `learning_rate` instead.\n",
      "  super(Adam, self).__init__(name, **kwargs)\n"
     ]
    },
    {
     "name": "stdout",
     "output_type": "stream",
     "text": [
      "Epoch 1/100\n",
      "1/1 [==============================] - 0s 279ms/step - loss: 15.2402 - mae: 15.2402\n",
      "Epoch 2/100\n",
      "1/1 [==============================] - 0s 2ms/step - loss: 14.5238 - mae: 14.5238\n",
      "Epoch 3/100\n",
      "1/1 [==============================] - 0s 3ms/step - loss: 13.9009 - mae: 13.9009\n",
      "Epoch 4/100\n",
      "1/1 [==============================] - 0s 3ms/step - loss: 13.2749 - mae: 13.2749\n",
      "Epoch 5/100\n",
      "1/1 [==============================] - 0s 3ms/step - loss: 12.6430 - mae: 12.6430\n",
      "Epoch 6/100\n",
      "1/1 [==============================] - 0s 3ms/step - loss: 12.0034 - mae: 12.0034\n",
      "Epoch 7/100\n",
      "1/1 [==============================] - 0s 3ms/step - loss: 11.3546 - mae: 11.3546\n",
      "Epoch 8/100\n",
      "1/1 [==============================] - 0s 2ms/step - loss: 10.6947 - mae: 10.6947\n",
      "Epoch 9/100\n",
      "1/1 [==============================] - 0s 3ms/step - loss: 10.0215 - mae: 10.0215\n",
      "Epoch 10/100\n",
      "1/1 [==============================] - 0s 3ms/step - loss: 9.3327 - mae: 9.3327\n",
      "Epoch 11/100\n",
      "1/1 [==============================] - 0s 2ms/step - loss: 8.6260 - mae: 8.6260\n",
      "Epoch 12/100\n",
      "1/1 [==============================] - 0s 3ms/step - loss: 7.8989 - mae: 7.8989\n",
      "Epoch 13/100\n",
      "1/1 [==============================] - 0s 2ms/step - loss: 7.1490 - mae: 7.1490\n",
      "Epoch 14/100\n",
      "1/1 [==============================] - 0s 4ms/step - loss: 6.5280 - mae: 6.5280\n",
      "Epoch 15/100\n",
      "1/1 [==============================] - 0s 2ms/step - loss: 6.5941 - mae: 6.5941\n",
      "Epoch 16/100\n",
      "1/1 [==============================] - 0s 3ms/step - loss: 6.8925 - mae: 6.8925\n",
      "Epoch 17/100\n",
      "1/1 [==============================] - 0s 2ms/step - loss: 7.1281 - mae: 7.1281\n",
      "Epoch 18/100\n",
      "1/1 [==============================] - 0s 3ms/step - loss: 7.2841 - mae: 7.2841\n",
      "Epoch 19/100\n",
      "1/1 [==============================] - 0s 3ms/step - loss: 7.2437 - mae: 7.2437\n",
      "Epoch 20/100\n",
      "1/1 [==============================] - 0s 3ms/step - loss: 7.0511 - mae: 7.0511\n",
      "Epoch 21/100\n",
      "1/1 [==============================] - 0s 4ms/step - loss: 6.7458 - mae: 6.7458\n",
      "Epoch 22/100\n",
      "1/1 [==============================] - 0s 2ms/step - loss: 6.5186 - mae: 6.5186\n",
      "Epoch 23/100\n",
      "1/1 [==============================] - 0s 3ms/step - loss: 6.2722 - mae: 6.2722\n",
      "Epoch 24/100\n",
      "1/1 [==============================] - 0s 3ms/step - loss: 6.0111 - mae: 6.0111\n",
      "Epoch 25/100\n",
      "1/1 [==============================] - 0s 3ms/step - loss: 5.8265 - mae: 5.8265\n",
      "Epoch 26/100\n",
      "1/1 [==============================] - 0s 3ms/step - loss: 5.7812 - mae: 5.7812\n",
      "Epoch 27/100\n",
      "1/1 [==============================] - 0s 2ms/step - loss: 5.7945 - mae: 5.7945\n",
      "Epoch 28/100\n",
      "1/1 [==============================] - 0s 4ms/step - loss: 5.8506 - mae: 5.8506\n",
      "Epoch 29/100\n",
      "1/1 [==============================] - 0s 2ms/step - loss: 5.8066 - mae: 5.8066\n",
      "Epoch 30/100\n",
      "1/1 [==============================] - 0s 3ms/step - loss: 5.6743 - mae: 5.6743\n",
      "Epoch 31/100\n",
      "1/1 [==============================] - 0s 2ms/step - loss: 5.4624 - mae: 5.4624\n",
      "Epoch 32/100\n",
      "1/1 [==============================] - 0s 2ms/step - loss: 5.3083 - mae: 5.3083\n",
      "Epoch 33/100\n",
      "1/1 [==============================] - 0s 4ms/step - loss: 5.1994 - mae: 5.1994\n",
      "Epoch 34/100\n",
      "1/1 [==============================] - 0s 2ms/step - loss: 5.0973 - mae: 5.0973\n",
      "Epoch 35/100\n",
      "1/1 [==============================] - 0s 2ms/step - loss: 5.0831 - mae: 5.0831\n",
      "Epoch 36/100\n",
      "1/1 [==============================] - 0s 2ms/step - loss: 5.0282 - mae: 5.0282\n",
      "Epoch 37/100\n",
      "1/1 [==============================] - 0s 2ms/step - loss: 4.9360 - mae: 4.9360\n",
      "Epoch 38/100\n",
      "1/1 [==============================] - 0s 2ms/step - loss: 4.8098 - mae: 4.8098\n",
      "Epoch 39/100\n",
      "1/1 [==============================] - 0s 3ms/step - loss: 4.6527 - mae: 4.6527\n",
      "Epoch 40/100\n",
      "1/1 [==============================] - 0s 2ms/step - loss: 4.5149 - mae: 4.5149\n",
      "Epoch 41/100\n",
      "1/1 [==============================] - 0s 3ms/step - loss: 4.4224 - mae: 4.4224\n",
      "Epoch 42/100\n",
      "1/1 [==============================] - 0s 3ms/step - loss: 4.3229 - mae: 4.3229\n",
      "Epoch 43/100\n",
      "1/1 [==============================] - 0s 3ms/step - loss: 4.2161 - mae: 4.2161\n",
      "Epoch 44/100\n",
      "1/1 [==============================] - 0s 5ms/step - loss: 4.1021 - mae: 4.1021\n",
      "Epoch 45/100\n",
      "1/1 [==============================] - 0s 4ms/step - loss: 3.9974 - mae: 3.9974\n",
      "Epoch 46/100\n",
      "1/1 [==============================] - 0s 3ms/step - loss: 3.8403 - mae: 3.8403\n",
      "Epoch 47/100\n",
      "1/1 [==============================] - 0s 4ms/step - loss: 3.6931 - mae: 3.6931\n",
      "Epoch 48/100\n",
      "1/1 [==============================] - 0s 2ms/step - loss: 3.5387 - mae: 3.5387\n",
      "Epoch 49/100\n",
      "1/1 [==============================] - 0s 3ms/step - loss: 3.3769 - mae: 3.3769\n",
      "Epoch 50/100\n",
      "1/1 [==============================] - 0s 3ms/step - loss: 3.2510 - mae: 3.2510\n",
      "Epoch 51/100\n",
      "1/1 [==============================] - 0s 2ms/step - loss: 3.1117 - mae: 3.1117\n",
      "Epoch 52/100\n",
      "1/1 [==============================] - 0s 2ms/step - loss: 2.9250 - mae: 2.9250\n",
      "Epoch 53/100\n",
      "1/1 [==============================] - 0s 3ms/step - loss: 2.7227 - mae: 2.7227\n",
      "Epoch 54/100\n",
      "1/1 [==============================] - 0s 3ms/step - loss: 2.5533 - mae: 2.5533\n",
      "Epoch 55/100\n",
      "1/1 [==============================] - 0s 3ms/step - loss: 2.3726 - mae: 2.3726\n",
      "Epoch 56/100\n",
      "1/1 [==============================] - 0s 3ms/step - loss: 2.1806 - mae: 2.1806\n",
      "Epoch 57/100\n",
      "1/1 [==============================] - 0s 2ms/step - loss: 2.0049 - mae: 2.0049\n",
      "Epoch 58/100\n",
      "1/1 [==============================] - 0s 2ms/step - loss: 1.7488 - mae: 1.7488\n",
      "Epoch 59/100\n",
      "1/1 [==============================] - 0s 6ms/step - loss: 1.5398 - mae: 1.5398\n",
      "Epoch 60/100\n",
      "1/1 [==============================] - 0s 6ms/step - loss: 1.3332 - mae: 1.3332\n",
      "Epoch 61/100\n",
      "1/1 [==============================] - 0s 15ms/step - loss: 1.0623 - mae: 1.0623\n",
      "Epoch 62/100\n",
      "1/1 [==============================] - 0s 6ms/step - loss: 0.8341 - mae: 0.8341\n",
      "Epoch 63/100\n",
      "1/1 [==============================] - 0s 3ms/step - loss: 0.5640 - mae: 0.5640\n",
      "Epoch 64/100\n",
      "1/1 [==============================] - 0s 3ms/step - loss: 0.3880 - mae: 0.3880\n",
      "Epoch 65/100\n",
      "1/1 [==============================] - 0s 2ms/step - loss: 0.2071 - mae: 0.2071\n",
      "Epoch 66/100\n",
      "1/1 [==============================] - 0s 3ms/step - loss: 0.3578 - mae: 0.3578\n",
      "Epoch 67/100\n",
      "1/1 [==============================] - 0s 2ms/step - loss: 0.5933 - mae: 0.5933\n",
      "Epoch 68/100\n",
      "1/1 [==============================] - 0s 3ms/step - loss: 0.6309 - mae: 0.6309\n",
      "Epoch 69/100\n",
      "1/1 [==============================] - 0s 3ms/step - loss: 0.8302 - mae: 0.8302\n",
      "Epoch 70/100\n",
      "1/1 [==============================] - 0s 3ms/step - loss: 0.8999 - mae: 0.8999\n",
      "Epoch 71/100\n",
      "1/1 [==============================] - 0s 2ms/step - loss: 0.7891 - mae: 0.7891\n",
      "Epoch 72/100\n",
      "1/1 [==============================] - 0s 3ms/step - loss: 0.8119 - mae: 0.8119\n",
      "Epoch 73/100\n",
      "1/1 [==============================] - 0s 3ms/step - loss: 0.7973 - mae: 0.7973\n",
      "Epoch 74/100\n",
      "1/1 [==============================] - 0s 3ms/step - loss: 0.6313 - mae: 0.6313\n",
      "Epoch 75/100\n",
      "1/1 [==============================] - 0s 4ms/step - loss: 0.6013 - mae: 0.6013\n",
      "Epoch 76/100\n",
      "1/1 [==============================] - 0s 3ms/step - loss: 0.4914 - mae: 0.4914\n",
      "Epoch 77/100\n",
      "1/1 [==============================] - 0s 3ms/step - loss: 0.2224 - mae: 0.2224\n",
      "Epoch 78/100\n",
      "1/1 [==============================] - 0s 3ms/step - loss: 0.2365 - mae: 0.2365\n",
      "Epoch 79/100\n",
      "1/1 [==============================] - 0s 3ms/step - loss: 0.1430 - mae: 0.1430\n",
      "Epoch 80/100\n",
      "1/1 [==============================] - 0s 3ms/step - loss: 0.3699 - mae: 0.3699\n",
      "Epoch 81/100\n",
      "1/1 [==============================] - 0s 3ms/step - loss: 0.4272 - mae: 0.4272\n",
      "Epoch 82/100\n",
      "1/1 [==============================] - 0s 3ms/step - loss: 0.3401 - mae: 0.3401\n",
      "Epoch 83/100\n",
      "1/1 [==============================] - 0s 3ms/step - loss: 0.4786 - mae: 0.4786\n",
      "Epoch 84/100\n",
      "1/1 [==============================] - 0s 4ms/step - loss: 0.4593 - mae: 0.4593\n",
      "Epoch 85/100\n",
      "1/1 [==============================] - 0s 3ms/step - loss: 0.3021 - mae: 0.3021\n",
      "Epoch 86/100\n",
      "1/1 [==============================] - 0s 2ms/step - loss: 0.3511 - mae: 0.3511\n",
      "Epoch 87/100\n",
      "1/1 [==============================] - 0s 3ms/step - loss: 0.2316 - mae: 0.2316\n",
      "Epoch 88/100\n",
      "1/1 [==============================] - 0s 2ms/step - loss: 0.1991 - mae: 0.1991\n",
      "Epoch 89/100\n",
      "1/1 [==============================] - 0s 3ms/step - loss: 0.2394 - mae: 0.2394\n",
      "Epoch 90/100\n",
      "1/1 [==============================] - 0s 2ms/step - loss: 0.1162 - mae: 0.1162\n",
      "Epoch 91/100\n",
      "1/1 [==============================] - 0s 3ms/step - loss: 0.1780 - mae: 0.1780\n",
      "Epoch 92/100\n",
      "1/1 [==============================] - 0s 3ms/step - loss: 0.1738 - mae: 0.1738\n",
      "Epoch 93/100\n",
      "1/1 [==============================] - 0s 2ms/step - loss: 0.1206 - mae: 0.1206\n",
      "Epoch 94/100\n",
      "1/1 [==============================] - 0s 3ms/step - loss: 0.1431 - mae: 0.1431\n",
      "Epoch 95/100\n",
      "1/1 [==============================] - 0s 3ms/step - loss: 0.0699 - mae: 0.0699\n",
      "Epoch 96/100\n",
      "1/1 [==============================] - 0s 3ms/step - loss: 0.2651 - mae: 0.2651\n",
      "Epoch 97/100\n",
      "1/1 [==============================] - 0s 2ms/step - loss: 0.3019 - mae: 0.3019\n",
      "Epoch 98/100\n",
      "1/1 [==============================] - 0s 3ms/step - loss: 0.1816 - mae: 0.1816\n",
      "Epoch 99/100\n",
      "1/1 [==============================] - 0s 3ms/step - loss: 0.3768 - mae: 0.3768\n",
      "Epoch 100/100\n",
      "1/1 [==============================] - 0s 3ms/step - loss: 0.4617 - mae: 0.4617\n"
     ]
    },
    {
     "data": {
      "text/plain": [
       "<keras.callbacks.History at 0x1c9d2a1b940>"
      ]
     },
     "execution_count": 25,
     "metadata": {},
     "output_type": "execute_result"
    }
   ],
   "source": [
    "model = tf.keras.Sequential([\n",
    "    tf.keras.layers.Dense(50, activation=None),\n",
    "    tf.keras.layers.Dense(1)\n",
    "    ])\n",
    "model.compile(loss='mae',\n",
    "            optimizer=tf.keras.optimizers.Adam(lr=0.01),\n",
    "            metrics=['mae'])\n",
    "model.fit(tf.expand_dims(X, axis=-1),y, epochs=100)    "
   ]
  },
  {
   "cell_type": "code",
   "execution_count": 26,
   "metadata": {},
   "outputs": [
    {
     "data": {
      "text/plain": [
       "array([[27.675716]], dtype=float32)"
      ]
     },
     "execution_count": 26,
     "metadata": {},
     "output_type": "execute_result"
    }
   ],
   "source": [
    "# my best model so far\n",
    "model.predict([17.0])"
   ]
  },
  {
   "cell_type": "code",
   "execution_count": null,
   "metadata": {},
   "outputs": [],
   "source": []
  }
 ],
 "metadata": {
  "interpreter": {
   "hash": "1e915f0a29dc84041eaeb02b7b1a21c440e37a87b61d44d5e84a515737dc82bc"
  },
  "kernelspec": {
   "display_name": "Python 3.8.8 64-bit ('base': conda)",
   "language": "python",
   "name": "python3"
  },
  "language_info": {
   "codemirror_mode": {
    "name": "ipython",
    "version": 3
   },
   "file_extension": ".py",
   "mimetype": "text/x-python",
   "name": "python",
   "nbconvert_exporter": "python",
   "pygments_lexer": "ipython3",
   "version": "3.9.4"
  },
  "orig_nbformat": 4
 },
 "nbformat": 4,
 "nbformat_minor": 2
}
